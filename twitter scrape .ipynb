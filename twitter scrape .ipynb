{
 "cells": [
  {
   "cell_type": "code",
   "execution_count": 1,
   "metadata": {},
   "outputs": [],
   "source": [
    "import pandas as pd\n",
    "import tweepy\n",
    "import time\n",
    "import json\n",
    "from pandas.io.json import json_normalize\n"
   ]
  },
  {
   "cell_type": "code",
   "execution_count": 2,
   "metadata": {},
   "outputs": [],
   "source": [
    "# authorization\n",
    "consumer_key= 'C27j2Dj98lrCeHDTY2Xgze3QH'\n",
    "consumer_secret = '1MVAIyFzi3cHu9Y9wnOykipxOuvjrFlUCeH37kFbluZCKMbUYs'\n",
    "access_token = \"755256756322787328-U6XrJYzxeu1gfrVumRpR29qZfCyB0aA\"\n",
    "access_token_secret = \"RcG4fqJn3AcFJwXxvLKdzEiQ2WbEG2qKjSPpeWScuYMrS\"\n",
    "auth = tweepy.OAuthHandler(consumer_key, consumer_secret)\n",
    "auth.set_access_token(access_token, access_token_secret)\n",
    "\n",
    "api = tweepy.API(auth,wait_on_rate_limit=True)\n",
    "\n"
   ]
  },
  {
   "cell_type": "code",
   "execution_count": 4,
   "metadata": {},
   "outputs": [
    {
     "name": "stdout",
     "output_type": "stream",
     "text": [
      "Petition asking government for monthly $2,000 stimulus checks passes 2 million signatures https://t.co/yKm5vWvlLu https://t.co/w1SYPt79sF\n",
      "England’s nursery schools driven towards extinction, says survey https://t.co/y5F0Ov71fD\n",
      "EARLIER: President Biden greets supporters outside York High School in Virginia https://t.co/V78bSjyVVU\n",
      "Four migrant families that were separated at the border by the Trump administration will be reunified in the U.S. t… https://t.co/1w3TmBieio\n",
      "When Eleven Madison Park reopens in June, chef and owner Daniel Humm will introduce a plant-based, meat-free menu a… https://t.co/yNUBU8qDNj\n",
      "Marvel rallies superhero fans to assemble at movie theaters https://t.co/SZrllwtFGI https://t.co/32x2RJpnrD\n",
      "Allies of GOP leader vow to oust Liz Cheney https://t.co/Zl1NfzoVbl https://t.co/LqVkUhWrXU\n",
      "Richard Cordray to head federal student aid office https://t.co/Jzph43ZMAE\n",
      "Transgender soccer referee makes Israeli sports history https://t.co/l1TvMUlPaI https://t.co/icAjhtkOjI\n",
      "Biden taps fierce critic of student loan industry to oversee Education Dept's $1.6 trillion loan portfolio… https://t.co/jKNjAqksq6\n",
      "President Biden is facing demands to suspend intellectual property rights on the vaccines as the pandemic surges. P… https://t.co/jO9Q41qPRz\n",
      "Critics see him as an opportunist who never fails to show up amid another tragedy. But those who know Ben Crump say… https://t.co/rPMX88rqkb\n",
      "As vaccinations slow, at least 22 states not ordering their full allotment: report https://t.co/FPkQIazUvd https://t.co/m3rtSlj3Kw\n",
      "Bill and Melinda Gates to divorce, shaking philanthropic world https://t.co/cEMcKaHBOZ https://t.co/QtQn8qoOxh\n",
      "Bill and Melinda Gates to divorce https://t.co/wMXy93l4S3 https://t.co/oiepSrAUT8\n",
      "RT @NWS_BaltWash: Tornado Warning including New Windsor MD until 9:00 PM EDT https://t.co/CErKl2zd9i\n",
      "Analysis: The slow redefinition of \"herd immunity\" — and what’s actually possible in the United States https://t.co/swIZt4Xb4c\n",
      "Scientists believe that the variants of SARS-CoV-2 responsible for this second wave of cases in India already inclu… https://t.co/wlhDTdupCm\n",
      "RT @thenewsoncnbc: Dogecoin — it all started as a joke. So why would someone buy this? @Kr00ney breaks down everything you need to know abo…\n"
     ]
    }
   ],
   "source": [
    "public_tweets = api.home_timeline()\n",
    "for tweet in public_tweets:\n",
    "    print(tweet.text)"
   ]
  },
  {
   "cell_type": "code",
   "execution_count": null,
   "metadata": {},
   "outputs": [],
   "source": []
  },
  {
   "cell_type": "code",
   "execution_count": 5,
   "metadata": {},
   "outputs": [],
   "source": [
    "#scraping for a specific user \n",
    "username = 'BarackObama'\n",
    "count = 150\n",
    "\n",
    "try:     \n",
    " # Creation of query method using parameters\n",
    " tweets = tweepy.Cursor(api.user_timeline,id=username).items(count)\n",
    " \n",
    " # Pulling information from tweets iterable object\n",
    " tweets_list = [[tweet.created_at, tweet.text, tweet.user.screen_name] for tweet in tweets]\n",
    " \n",
    " # Creation of dataframe from tweets list\n",
    " # Add or remove columns as you remove tweet information\n",
    " tweets_df = pd.DataFrame(tweets_list)\n",
    "except BaseException as e:\n",
    "      print('failed on_status,',str(e))\n",
    "      time.sleep(3)"
   ]
  },
  {
   "cell_type": "code",
   "execution_count": 5,
   "metadata": {},
   "outputs": [
    {
     "data": {
      "text/html": [
       "<div>\n",
       "<style scoped>\n",
       "    .dataframe tbody tr th:only-of-type {\n",
       "        vertical-align: middle;\n",
       "    }\n",
       "\n",
       "    .dataframe tbody tr th {\n",
       "        vertical-align: top;\n",
       "    }\n",
       "\n",
       "    .dataframe thead th {\n",
       "        text-align: right;\n",
       "    }\n",
       "</style>\n",
       "<table border=\"1\" class=\"dataframe\">\n",
       "  <thead>\n",
       "    <tr style=\"text-align: right;\">\n",
       "      <th></th>\n",
       "      <th>0</th>\n",
       "      <th>1</th>\n",
       "      <th>2</th>\n",
       "    </tr>\n",
       "  </thead>\n",
       "  <tbody>\n",
       "    <tr>\n",
       "      <th>0</th>\n",
       "      <td>2021-04-30 13:00:21</td>\n",
       "      <td>It was because of them I was able to travel to...</td>\n",
       "      <td>BarackObama</td>\n",
       "    </tr>\n",
       "    <tr>\n",
       "      <th>1</th>\n",
       "      <td>2021-04-30 13:00:10</td>\n",
       "      <td>This week, Admiral Bill McRaven joined me to r...</td>\n",
       "      <td>BarackObama</td>\n",
       "    </tr>\n",
       "    <tr>\n",
       "      <th>2</th>\n",
       "      <td>2021-04-29 23:16:31</td>\n",
       "      <td>Bernie Wong was a trailblazer who spent her li...</td>\n",
       "      <td>BarackObama</td>\n",
       "    </tr>\n",
       "    <tr>\n",
       "      <th>3</th>\n",
       "      <td>2021-04-29 22:31:08</td>\n",
       "      <td>During President @JoeBiden’s first 100 days, t...</td>\n",
       "      <td>BarackObama</td>\n",
       "    </tr>\n",
       "    <tr>\n",
       "      <th>4</th>\n",
       "      <td>2021-04-26 21:55:27</td>\n",
       "      <td>States have just learned how many seats they h...</td>\n",
       "      <td>BarackObama</td>\n",
       "    </tr>\n",
       "    <tr>\n",
       "      <th>...</th>\n",
       "      <td>...</td>\n",
       "      <td>...</td>\n",
       "      <td>...</td>\n",
       "    </tr>\n",
       "    <tr>\n",
       "      <th>145</th>\n",
       "      <td>2020-11-16 22:02:07</td>\n",
       "      <td>Music has always played an important role in m...</td>\n",
       "      <td>BarackObama</td>\n",
       "    </tr>\n",
       "    <tr>\n",
       "      <th>146</th>\n",
       "      <td>2020-11-12 21:00:56</td>\n",
       "      <td>More than anyone else, I wrote my book for you...</td>\n",
       "      <td>BarackObama</td>\n",
       "    </tr>\n",
       "    <tr>\n",
       "      <th>147</th>\n",
       "      <td>2020-11-11 16:01:55</td>\n",
       "      <td>Today, we’re reminded of our solemn obligation...</td>\n",
       "      <td>BarackObama</td>\n",
       "    </tr>\n",
       "    <tr>\n",
       "      <th>148</th>\n",
       "      <td>2020-11-07 18:03:22</td>\n",
       "      <td>Congratulations to my friends, @JoeBiden and @...</td>\n",
       "      <td>BarackObama</td>\n",
       "    </tr>\n",
       "    <tr>\n",
       "      <th>149</th>\n",
       "      <td>2020-11-04 00:17:16</td>\n",
       "      <td>Thank you Chiney, Nneka, and all of the athlet...</td>\n",
       "      <td>BarackObama</td>\n",
       "    </tr>\n",
       "  </tbody>\n",
       "</table>\n",
       "<p>150 rows × 3 columns</p>\n",
       "</div>"
      ],
      "text/plain": [
       "                      0                                                  1  \\\n",
       "0   2021-04-30 13:00:21  It was because of them I was able to travel to...   \n",
       "1   2021-04-30 13:00:10  This week, Admiral Bill McRaven joined me to r...   \n",
       "2   2021-04-29 23:16:31  Bernie Wong was a trailblazer who spent her li...   \n",
       "3   2021-04-29 22:31:08  During President @JoeBiden’s first 100 days, t...   \n",
       "4   2021-04-26 21:55:27  States have just learned how many seats they h...   \n",
       "..                  ...                                                ...   \n",
       "145 2020-11-16 22:02:07  Music has always played an important role in m...   \n",
       "146 2020-11-12 21:00:56  More than anyone else, I wrote my book for you...   \n",
       "147 2020-11-11 16:01:55  Today, we’re reminded of our solemn obligation...   \n",
       "148 2020-11-07 18:03:22  Congratulations to my friends, @JoeBiden and @...   \n",
       "149 2020-11-04 00:17:16  Thank you Chiney, Nneka, and all of the athlet...   \n",
       "\n",
       "               2  \n",
       "0    BarackObama  \n",
       "1    BarackObama  \n",
       "2    BarackObama  \n",
       "3    BarackObama  \n",
       "4    BarackObama  \n",
       "..           ...  \n",
       "145  BarackObama  \n",
       "146  BarackObama  \n",
       "147  BarackObama  \n",
       "148  BarackObama  \n",
       "149  BarackObama  \n",
       "\n",
       "[150 rows x 3 columns]"
      ]
     },
     "execution_count": 5,
     "metadata": {},
     "output_type": "execute_result"
    }
   ],
   "source": [
    "tweets_df"
   ]
  },
  {
   "cell_type": "code",
   "execution_count": null,
   "metadata": {},
   "outputs": [],
   "source": [
    "def scraptweets(search_words, date_since, numTweets, numRuns):\n",
    "    \n",
    "    # Define a for-loop to generate tweets at regular intervals\n",
    "    # We cannot make large API call in one go. Hence, let's try T times\n",
    "    \n",
    "    # Define a pandas dataframe to store the date:\n",
    "    db_tweets = pd.DataFrame(columns = ['username', 'acctdesc', 'location', 'following',\n",
    "                                        'followers', 'totaltweets', 'usercreatedts', 'tweetcreatedts',\n",
    "                                        'retweetcount', 'text', 'hashtags']"
   ]
  },
  {
   "cell_type": "code",
   "execution_count": null,
   "metadata": {},
   "outputs": [],
   "source": [
    "program_start = time.time()\n",
    "    for i in range(0, numRuns):\n",
    "        # We will time how long it takes to scrape tweets for each run:\n",
    "        start_run = time.time()\n",
    "        \n",
    "        # Collect tweets using the Cursor object\n",
    "        # .Cursor() returns an object that you can iterate or loop over to access the data collected.\n",
    "        # Each item in the iterator has various attributes that you can access to get information about each tweet\n",
    "        tweets = tweepy.Cursor(api.search, q=search_words, lang=\"en\", since=date_since, tweet_mode='extended').items(numTweets)"
   ]
  },
  {
   "cell_type": "code",
   "execution_count": null,
   "metadata": {},
   "outputs": [],
   "source": []
  },
  {
   "cell_type": "code",
   "execution_count": null,
   "metadata": {},
   "outputs": [],
   "source": []
  },
  {
   "cell_type": "code",
   "execution_count": null,
   "metadata": {},
   "outputs": [],
   "source": []
  },
  {
   "cell_type": "code",
   "execution_count": null,
   "metadata": {},
   "outputs": [],
   "source": []
  },
  {
   "cell_type": "code",
   "execution_count": null,
   "metadata": {},
   "outputs": [],
   "source": []
  },
  {
   "cell_type": "code",
   "execution_count": null,
   "metadata": {},
   "outputs": [],
   "source": []
  },
  {
   "cell_type": "code",
   "execution_count": null,
   "metadata": {},
   "outputs": [],
   "source": []
  },
  {
   "cell_type": "code",
   "execution_count": null,
   "metadata": {},
   "outputs": [],
   "source": []
  },
  {
   "cell_type": "code",
   "execution_count": null,
   "metadata": {},
   "outputs": [],
   "source": []
  },
  {
   "cell_type": "code",
   "execution_count": null,
   "metadata": {},
   "outputs": [],
   "source": [
    "tweets_list = []\n",
    "for tweet in tweepy.Cursor(api.search, q='#contentmarketing', count=10, \n",
    "    lang='en', since='2021-05-03').items():\n",
    "        tweets_list.append(tweet._json)"
   ]
  },
  {
   "cell_type": "code",
   "execution_count": null,
   "metadata": {},
   "outputs": [],
   "source": [
    "tweets = []\n",
    "try:\n",
    "    for tweet in tweepy.Cursor(api.search, q='#contentmarketing', count=10, \n",
    "    lang='en', since='2021-05-03').items():\n",
    "        tweets.append(tweet._json)\n",
    "except BaseException as e:\n",
    "      print('failed on_status,',str(e))\n",
    "      time.sleep(3)\n",
    "\n",
    "tweets"
   ]
  },
  {
   "cell_type": "code",
   "execution_count": null,
   "metadata": {},
   "outputs": [],
   "source": [
    "#write list of tweets into a txt file \n",
    "open('tweet_json_Barca.txt', 'w') as file:\n",
    "        file.write(json.dumps(tweets, indent=4))\n"
   ]
  },
  {
   "cell_type": "code",
   "execution_count": null,
   "metadata": {},
   "outputs": [],
   "source": [
    "#create a dataframe from json tweets\n",
    "my_demo_list = []\n",
    "with open('tweet_json_Barca.txt', encoding='utf-8') as json_file:  \n",
    "    all_data = json.load(json_file)\n",
    "    for each_dictionary in all_data:\n",
    "        tweet_id = each_dictionary['id']\n",
    "        text = each_dictionary['text']\n",
    "        favorite_count = each_dictionary['favorite_count']\n",
    "        retweet_count = each_dictionary['retweet_count']\n",
    "        created_at = each_dictionary['created_at']\n",
    "        my_demo_list.append({'tweet_id': str(tweet_id),\n",
    "                             'text': str(text),\n",
    "                             'favorite_count': int(favorite_count),\n",
    "                             'retweet_count': int(retweet_count),\n",
    "                             'created_at': created_at,\n",
    "                            })\n",
    "        #print(my_demo_list)\n",
    "        tweet_json = pd.DataFrame(my_demo_list, columns = \n",
    "                                  ['tweet_id', 'text', \n",
    "                                   'favorite_count', 'retweet_count', \n",
    "                                   'created_at'])"
   ]
  },
  {
   "cell_type": "code",
   "execution_count": null,
   "metadata": {},
   "outputs": [],
   "source": [
    "# function to convert _json to JSON\n",
    "def jsonify_tweepy(tweepy_object):\n",
    "    json_str = json.dumps(tweepy_object._json)\n",
    "    return json.loads(json_str)"
   ]
  },
  {
   "cell_type": "code",
   "execution_count": null,
   "metadata": {},
   "outputs": [],
   "source": [
    "tweet_list = [jsonify_tweepy(tweet) for tweet in tweets]\n",
    "# df_tweet = pd.json_normalize(tweet_list)\n",
    "# df_tweet\n",
    "print(tweet_list)"
   ]
  },
  {
   "cell_type": "code",
   "execution_count": null,
   "metadata": {},
   "outputs": [],
   "source": [
    "for x in range(2):\n",
    "    print(tweets[x].text) \n",
    "    print(\"\")\n",
    "    print(tweets[x].user.screen_name) \n",
    "    print(\"\")"
   ]
  },
  {
   "cell_type": "code",
   "execution_count": null,
   "metadata": {},
   "outputs": [],
   "source": [
    "tweets_df2 = pd.DataFrame(tweets[x].text)\n",
    "tweets_df2"
   ]
  },
  {
   "cell_type": "code",
   "execution_count": null,
   "metadata": {},
   "outputs": [],
   "source": []
  },
  {
   "cell_type": "code",
   "execution_count": null,
   "metadata": {},
   "outputs": [],
   "source": [
    "import GetOldTweets3 as got"
   ]
  },
  {
   "cell_type": "code",
   "execution_count": null,
   "metadata": {},
   "outputs": [],
   "source": [
    "# Function created to extract coordinates from tweet if it has coordinate info\n",
    "# Tweets tend to have null so important to run check\n",
    "# Make sure to run this cell as it is used in a lot of different functions below\n",
    "def extract_coordinates(row):\n",
    "    if row['Tweet Coordinates']:\n",
    "        return row['Tweet Coordinates']['coordinates']\n",
    "    else:\n",
    "        return None\n",
    "# Function created to extract place such as city, state or country from tweet if it has place info\n",
    "# Tweets tend to have null so important to run check\n",
    "# Make sure to run this cell as it is used in a lot of different functions below\n",
    "def extract_place(row):\n",
    "    if row['Place Info']:\n",
    "        return row['Place Info'].full_name\n",
    "    else:\n",
    "        return None"
   ]
  },
  {
   "cell_type": "code",
   "execution_count": null,
   "metadata": {},
   "outputs": [],
   "source": [
    "username = 'BarackObama'\n",
    "count = 2000\n",
    "# Creation of query object\n",
    "tweetCriteria = got.manager.TweetCriteria().setUsername(username)\\\n",
    "                                        .setMaxTweets(count)\n",
    "# Creation of list that contains all tweets\n",
    "tweets = got.manager.TweetManager.getTweets(tweetCriteria)\n",
    "# Creating list of chosen tweet data\n",
    "user_tweets = [[tweet.date, tweet.text] for tweet in tweets]\n",
    "# Creation of dataframe from tweets list\n",
    "tweets_df = pd.DataFrame(user_tweets)\n"
   ]
  },
  {
   "cell_type": "code",
   "execution_count": null,
   "metadata": {},
   "outputs": [],
   "source": [
    "user_name = \"BarackObama\"\n",
    "max_tweets = 150\n",
    " \n",
    "tweets = tweepy.Cursor(api.user_timeline).items(max_tweets)\n",
    " \n",
    "# Pulling information from tweets iterable object\n",
    "# Add or remove tweet information you want in the below list comprehension\n",
    "tweets_list = [[tweet.text, tweet.created_at, tweet.id_str, tweet.user.screen_name, tweet.coordinates, tweet.place, tweet.retweet_count, tweet.favorite_count, tweet.lang, tweet.source, tweet.in_reply_to_status_id_str, tweet.in_reply_to_user_id_str, tweet.is_quote_status] for tweet in tweets]\n",
    " \n",
    "# Creation of dataframe from tweets_list\n",
    "# Add or remove columns as you remove tweet information\n",
    "tweets_df = pd.DataFrame(tweets_list,columns=['Tweet Text', 'Tweet Datetime', 'Tweet Id', 'Twitter @ Name', 'Tweet Coordinates', 'Place Info', 'Retweets', 'Favorites', 'Language', 'Source', 'Replied Tweet Id', 'Replied Tweet User Id Str', 'Quote Status Bool'])\n",
    " \n",
    "# Checks if there are coordinates attached to tweets, if so extracts them\n",
    "tweets_df['Tweet Coordinates'] = tweets_df.apply(extract_coordinates,axis=1)\n",
    " \n",
    "# Checks if there is place information available, if so extracts them\n",
    "tweets_df['Place Info'] = tweets_df.apply(extract_place,axis=1)\n"
   ]
  },
  {
   "cell_type": "code",
   "execution_count": null,
   "metadata": {},
   "outputs": [],
   "source": [
    "tweets_df"
   ]
  },
  {
   "cell_type": "code",
   "execution_count": null,
   "metadata": {},
   "outputs": [],
   "source": [
    "since_date = '2019-01-01'\n",
    "until_date = '2019-10-31'\n",
    "count = 2000\n",
    "# Creation of query object\n",
    "tweetCriteria = got.manager.TweetCriteria().setSince(since_date).setUntil(until_date).setMaxTweets(count)\n",
    "# Creation of list that contains all tweets\n",
    "tweets = got.manager.TweetManager.getTweets(tweetCriteria)\n",
    "# Creating list of chosen tweet data\n",
    "text_tweets = [[tweet.date, tweet.text] for tweet in tweets]\n",
    "# Creation of dataframe from tweets list\n",
    "tweets_df = pd.DataFrame(text_tweets)"
   ]
  },
  {
   "cell_type": "code",
   "execution_count": null,
   "metadata": {},
   "outputs": [],
   "source": []
  }
 ],
 "metadata": {
  "kernelspec": {
   "display_name": "Python 3",
   "language": "python",
   "name": "python3"
  },
  "language_info": {
   "codemirror_mode": {
    "name": "ipython",
    "version": 3
   },
   "file_extension": ".py",
   "mimetype": "text/x-python",
   "name": "python",
   "nbconvert_exporter": "python",
   "pygments_lexer": "ipython3",
   "version": "3.7.6"
  }
 },
 "nbformat": 4,
 "nbformat_minor": 4
}
